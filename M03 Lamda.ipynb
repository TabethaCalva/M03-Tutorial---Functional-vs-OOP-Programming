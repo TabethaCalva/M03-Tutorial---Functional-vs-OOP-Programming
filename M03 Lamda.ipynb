{
 "cells": [
  {
   "cell_type": "code",
   "execution_count": 14,
   "id": "e91ef34d",
   "metadata": {},
   "outputs": [
    {
     "name": "stdout",
     "output_type": "stream",
     "text": [
      "Number is at index  2\n"
     ]
    }
   ],
   "source": [
    "class Solution:\t\n",
    "    def binarysearch(arr, l, r, x):\n",
    "        if r >= l:\n",
    "            mid = l + (r-l)//2\n",
    "    \n",
    "            if arr[mid]==x:\n",
    "                return mid\n",
    "            elif arr[mid]>x:\n",
    "                return binarysearch(arr,l,mid-1,x)\n",
    "            else:\n",
    "                return -1\n",
    "    arr = [2, 3, 4, 10, 40]\n",
    "    x=4\n",
    "    \n",
    "    result = binarysearch(arr, 0, len(arr)-1, x)\n",
    "    if result != -1:\n",
    "        print(\"Number is at index % d\" % result)\n",
    "    else:\n",
    "        print(\"Not here\")"
   ]
  },
  {
   "cell_type": "code",
   "execution_count": null,
   "id": "295e1133",
   "metadata": {},
   "outputs": [],
   "source": []
  }
 ],
 "metadata": {
  "kernelspec": {
   "display_name": "Python 3 (ipykernel)",
   "language": "python",
   "name": "python3"
  },
  "language_info": {
   "codemirror_mode": {
    "name": "ipython",
    "version": 3
   },
   "file_extension": ".py",
   "mimetype": "text/x-python",
   "name": "python",
   "nbconvert_exporter": "python",
   "pygments_lexer": "ipython3",
   "version": "3.11.5"
  }
 },
 "nbformat": 4,
 "nbformat_minor": 5
}
