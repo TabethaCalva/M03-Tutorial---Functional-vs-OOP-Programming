{
 "cells": [
  {
   "cell_type": "code",
   "execution_count": 11,
   "id": "0815f7ef",
   "metadata": {},
   "outputs": [
    {
     "name": "stdout",
     "output_type": "stream",
     "text": [
      "[0, 1, 1, 2]\n"
     ]
    }
   ],
   "source": [
    "class Sorting:\n",
    "    \n",
    "    def sort(arr,n):\n",
    "        \n",
    "        low = 0\n",
    "        high = n -1\n",
    "        mid = 0\n",
    "        \n",
    "        while mid <= high:\n",
    "            if arr[mid]==0:\n",
    "                arr[mid], arr[low] = arr[low],arr[mid]\n",
    "                mid+=1\n",
    "                low +=1\n",
    "            elif arr[mid]==1:\n",
    "                mid+=1\n",
    "            else:\n",
    "                arr[mid], arr[high] = arr [high], arr[mid]\n",
    "                high -=1\n",
    "    arr = [ 1, 2, 0,1]\n",
    "    n = 4\n",
    "    sortd = sort(arr, n)\n",
    "    print(arr)"
   ]
  },
  {
   "cell_type": "markdown",
   "id": "b7ecb00f",
   "metadata": {},
   "source": []
  }
 ],
 "metadata": {
  "kernelspec": {
   "display_name": "Python 3 (ipykernel)",
   "language": "python",
   "name": "python3"
  },
  "language_info": {
   "codemirror_mode": {
    "name": "ipython",
    "version": 3
   },
   "file_extension": ".py",
   "mimetype": "text/x-python",
   "name": "python",
   "nbconvert_exporter": "python",
   "pygments_lexer": "ipython3",
   "version": "3.11.5"
  }
 },
 "nbformat": 4,
 "nbformat_minor": 5
}
